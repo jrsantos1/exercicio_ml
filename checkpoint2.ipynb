{
 "cells": [
  {
   "cell_type": "code",
   "execution_count": 110,
   "metadata": {},
   "outputs": [],
   "source": [
    "import pandas as pd \n",
    "import numpy as np\n",
    "import seaborn as sns\n",
    "import matplotlib.pyplot as plt \n",
    "import scipy.stats as stats"
   ]
  },
  {
   "cell_type": "markdown",
   "metadata": {},
   "source": [
    "### Carregar DataFrame"
   ]
  },
  {
   "cell_type": "code",
   "execution_count": 111,
   "metadata": {},
   "outputs": [
    {
     "data": {
      "text/html": [
       "<div>\n",
       "<style scoped>\n",
       "    .dataframe tbody tr th:only-of-type {\n",
       "        vertical-align: middle;\n",
       "    }\n",
       "\n",
       "    .dataframe tbody tr th {\n",
       "        vertical-align: top;\n",
       "    }\n",
       "\n",
       "    .dataframe thead th {\n",
       "        text-align: right;\n",
       "    }\n",
       "</style>\n",
       "<table border=\"1\" class=\"dataframe\">\n",
       "  <thead>\n",
       "    <tr style=\"text-align: right;\">\n",
       "      <th></th>\n",
       "      <th>Education</th>\n",
       "      <th>JoiningYear</th>\n",
       "      <th>City</th>\n",
       "      <th>PaymentTier</th>\n",
       "      <th>Age</th>\n",
       "      <th>Gender</th>\n",
       "      <th>EverBenched</th>\n",
       "      <th>ExperienceInCurrentDomain</th>\n",
       "      <th>LeaveOrNot</th>\n",
       "    </tr>\n",
       "  </thead>\n",
       "  <tbody>\n",
       "    <tr>\n",
       "      <th>0</th>\n",
       "      <td>Bachelors</td>\n",
       "      <td>2017</td>\n",
       "      <td>Bangalore</td>\n",
       "      <td>3</td>\n",
       "      <td>34</td>\n",
       "      <td>Male</td>\n",
       "      <td>No</td>\n",
       "      <td>0</td>\n",
       "      <td>0</td>\n",
       "    </tr>\n",
       "    <tr>\n",
       "      <th>1</th>\n",
       "      <td>Bachelors</td>\n",
       "      <td>2013</td>\n",
       "      <td>Pune</td>\n",
       "      <td>1</td>\n",
       "      <td>28</td>\n",
       "      <td>Female</td>\n",
       "      <td>No</td>\n",
       "      <td>3</td>\n",
       "      <td>1</td>\n",
       "    </tr>\n",
       "    <tr>\n",
       "      <th>2</th>\n",
       "      <td>Bachelors</td>\n",
       "      <td>2014</td>\n",
       "      <td>New Delhi</td>\n",
       "      <td>3</td>\n",
       "      <td>38</td>\n",
       "      <td>Female</td>\n",
       "      <td>No</td>\n",
       "      <td>2</td>\n",
       "      <td>0</td>\n",
       "    </tr>\n",
       "    <tr>\n",
       "      <th>3</th>\n",
       "      <td>Masters</td>\n",
       "      <td>2016</td>\n",
       "      <td>Bangalore</td>\n",
       "      <td>3</td>\n",
       "      <td>27</td>\n",
       "      <td>Male</td>\n",
       "      <td>No</td>\n",
       "      <td>5</td>\n",
       "      <td>1</td>\n",
       "    </tr>\n",
       "    <tr>\n",
       "      <th>4</th>\n",
       "      <td>Masters</td>\n",
       "      <td>2017</td>\n",
       "      <td>Pune</td>\n",
       "      <td>3</td>\n",
       "      <td>24</td>\n",
       "      <td>Male</td>\n",
       "      <td>Yes</td>\n",
       "      <td>2</td>\n",
       "      <td>1</td>\n",
       "    </tr>\n",
       "  </tbody>\n",
       "</table>\n",
       "</div>"
      ],
      "text/plain": [
       "   Education  JoiningYear       City  PaymentTier  Age  Gender EverBenched  \\\n",
       "0  Bachelors         2017  Bangalore            3   34    Male          No   \n",
       "1  Bachelors         2013       Pune            1   28  Female          No   \n",
       "2  Bachelors         2014  New Delhi            3   38  Female          No   \n",
       "3    Masters         2016  Bangalore            3   27    Male          No   \n",
       "4    Masters         2017       Pune            3   24    Male         Yes   \n",
       "\n",
       "   ExperienceInCurrentDomain  LeaveOrNot  \n",
       "0                          0           0  \n",
       "1                          3           1  \n",
       "2                          2           0  \n",
       "3                          5           1  \n",
       "4                          2           1  "
      ]
     },
     "execution_count": 111,
     "metadata": {},
     "output_type": "execute_result"
    }
   ],
   "source": [
    "df = pd.read_csv('data/conjunto_de_dados_de_funcionarios.csv')\n",
    "df.head(5)"
   ]
  },
  {
   "cell_type": "code",
   "execution_count": 112,
   "metadata": {},
   "outputs": [
    {
     "data": {
      "text/plain": [
       "Index(['Education', 'JoiningYear', 'City', 'PaymentTier', 'Age', 'Gender',\n",
       "       'EverBenched', 'ExperienceInCurrentDomain', 'LeaveOrNot'],\n",
       "      dtype='object')"
      ]
     },
     "execution_count": 112,
     "metadata": {},
     "output_type": "execute_result"
    }
   ],
   "source": [
    "campos = df.columns\n",
    "campos"
   ]
  },
  {
   "cell_type": "markdown",
   "metadata": {},
   "source": [
    "### FUNCOES E VARIÁVEIS GLOBAIS"
   ]
  },
  {
   "cell_type": "code",
   "execution_count": 113,
   "metadata": {},
   "outputs": [],
   "source": [
    "df_size = df.shape[0]\n",
    "\n",
    "def prob(a , e, ocorrer=True) -> str:\n",
    "    if not ocorrer:\n",
    "        return '{:.2%}'.format(1 - (a/e))\n",
    "    else: \n",
    "        return '{:.2%}'.format((a/e))\n",
    "\n",
    "def prob_cond (AB, B):\n",
    "  resultado = (AB / B)\n",
    "  return ('{:.2%}'.format(resultado))"
   ]
  },
  {
   "cell_type": "markdown",
   "metadata": {},
   "source": [
    "# Variável Education"
   ]
  },
  {
   "cell_type": "markdown",
   "metadata": {},
   "source": [
    "### Separando DataFrames, um com funcionários na empresa, e outras com ex funcionários da empresa\n"
   ]
  },
  {
   "cell_type": "code",
   "execution_count": 114,
   "metadata": {},
   "outputs": [],
   "source": [
    "#NÃO SAÍRAM DA EMPRESA\n",
    "df_off = df.loc[df.LeaveOrNot == 0]\n",
    "\n",
    "#SAÍRAM DA EMPRESA\n",
    "df_on = df.loc[df.LeaveOrNot == 1]\n"
   ]
  },
  {
   "cell_type": "markdown",
   "metadata": {},
   "source": [
    "### PROBABILIDADE DO FUNCIONÁRIO SAIR DA EMPRESA"
   ]
  },
  {
   "cell_type": "code",
   "execution_count": 115,
   "metadata": {},
   "outputs": [
    {
     "data": {
      "text/plain": [
       "'65.61%'"
      ]
     },
     "execution_count": 115,
     "metadata": {},
     "output_type": "execute_result"
    }
   ],
   "source": [
    "prob(a=df_off.shape[0], e=df.shape[0])"
   ]
  },
  {
   "cell_type": "markdown",
   "metadata": {},
   "source": [
    "### PROBABILIDADE DO FUNCIONÁRIO NÃO SAIR DA EMPRESA\n"
   ]
  },
  {
   "cell_type": "code",
   "execution_count": 116,
   "metadata": {},
   "outputs": [
    {
     "data": {
      "text/plain": [
       "'34.39%'"
      ]
     },
     "execution_count": 116,
     "metadata": {},
     "output_type": "execute_result"
    }
   ],
   "source": [
    "prob(a=df_off.shape[0], e=df.shape[0], ocorrer=False)"
   ]
  },
  {
   "cell_type": "code",
   "execution_count": 117,
   "metadata": {},
   "outputs": [
    {
     "data": {
      "text/plain": [
       "Education\n",
       "Bachelors    3601\n",
       "Masters       873\n",
       "PHD           179\n",
       "Name: count, dtype: int64"
      ]
     },
     "execution_count": 117,
     "metadata": {},
     "output_type": "execute_result"
    }
   ],
   "source": [
    "#CONTAR QUANTOS VALORES ESTÃO DISPONÍVEIS NA COLUNA EDUCATION\n",
    "df[\"Education\"].value_counts()"
   ]
  },
  {
   "cell_type": "code",
   "execution_count": 118,
   "metadata": {},
   "outputs": [],
   "source": [
    "#SEPARAR EM GRUPOS DE FORMAÇÃO\n",
    "bachelors = df.loc[df.Education == 'Bachelors']\n",
    "masters = df.loc[df.Education == 'Masters']\n",
    "PHD = df.loc[df.Education == 'PHD']\n"
   ]
  },
  {
   "cell_type": "code",
   "execution_count": 119,
   "metadata": {},
   "outputs": [
    {
     "name": "stdout",
     "output_type": "stream",
     "text": [
      "Probabilidades\n",
      "Bacharel: 77.39%. Mestre: 18.76%. PHD: 3.85%\n"
     ]
    }
   ],
   "source": [
    "#PROBABILIDADE FUNCIONARIO SER BACHAREL\n",
    "p_bachelors = prob (len(bachelors), len(df))\n",
    "\n",
    "#PROBABILIDADE FUNCIONARIO SER MESTRE\n",
    "p_masters = prob (len(masters), len(df))\n",
    "\n",
    "#PROBABILIDADE FUNCIONARIO SER PHD\n",
    "p_PHD = prob (len(PHD), len(df))\n",
    "\n",
    "print('Probabilidades')\n",
    "print('Bacharel: {}. Mestre: {}. PHD: {}'.format(p_bachelors, p_masters, p_PHD))"
   ]
  },
  {
   "cell_type": "markdown",
   "metadata": {},
   "source": [
    "## Variável City"
   ]
  },
  {
   "cell_type": "code",
   "execution_count": 120,
   "metadata": {},
   "outputs": [
    {
     "data": {
      "text/plain": [
       "array(['Bangalore', 'Pune', 'New Delhi'], dtype=object)"
      ]
     },
     "execution_count": 120,
     "metadata": {},
     "output_type": "execute_result"
    }
   ],
   "source": [
    "# VErificando campos \n",
    "df['City'].unique()"
   ]
  },
  {
   "cell_type": "code",
   "execution_count": 121,
   "metadata": {},
   "outputs": [],
   "source": [
    "# Separando em dataFrames por cidade\n",
    "df_bangalore = df[df.City == 'Bangalore']\n",
    "df_pune = df[df.City == 'Pune']\n",
    "df_new_delhi = df[df.City == 'New Delhi']"
   ]
  },
  {
   "cell_type": "markdown",
   "metadata": {},
   "source": [
    "### Probabilidades "
   ]
  },
  {
   "cell_type": "code",
   "execution_count": 122,
   "metadata": {},
   "outputs": [
    {
     "data": {
      "text/plain": [
       "4"
      ]
     },
     "execution_count": 122,
     "metadata": {},
     "output_type": "execute_result"
    }
   ],
   "source": [
    "1 # Probabilidade do funcionário ser de uma das cidades\n",
    "2 # PROBALIDADE DO FUNCIONARIO SER CADA CIDADE SAIR DA EMPRESA (LeaveOrNot)\n",
    "3 # PROBABILIDADE DO FUNCIONARIO DE CADA CIDADE SER HOMEM OU MULHER (Gender)\n",
    "4 # PROBABILIDADE DO FUNCIONARIO DE CADA CIDADE TER UM NÍVEL DE PAGAMENTO 3 (PaymentTier)"
   ]
  },
  {
   "cell_type": "code",
   "execution_count": 123,
   "metadata": {},
   "outputs": [
    {
     "data": {
      "text/plain": [
       "'Bang: 47.88%. Pune: 24.87%. New Delhi: 27.25%'"
      ]
     },
     "execution_count": 123,
     "metadata": {},
     "output_type": "execute_result"
    }
   ],
   "source": [
    "1 # Probabilidade do funcionário ser de uma das cidades\n",
    "'Bang: {}. Pune: {}. New Delhi: {}'.format(prob(df_bangalore.shape[0], df_size), prob(df_new_delhi.shape[0], df_size), prob(df_pune.shape[0], df_size))"
   ]
  },
  {
   "cell_type": "code",
   "execution_count": 124,
   "metadata": {},
   "outputs": [
    {
     "data": {
      "text/plain": [
       "'Bang: 35.10%. Pune: 17.00%. New Delhi: 13.52%'"
      ]
     },
     "execution_count": 124,
     "metadata": {},
     "output_type": "execute_result"
    }
   ],
   "source": [
    "2 # PROBALIDADE DO FUNCIONARIO SER CADA CIDADE SAIR DA EMPRESA (LeaveOrNot)\n",
    "\n",
    "# Separando em dataFrames por cidade\n",
    "df_bangalore_off = df_off[df_off.City == 'Bangalore']\n",
    "df_pune_off = df_off[df_off.City == 'Pune']\n",
    "df_new_delhi__off = df_off[df_off.City == 'New Delhi']\n",
    "\n",
    "\n",
    "'Bang: {}. Pune: {}. New Delhi: {}'.format(prob_cond(df_bangalore_off.shape[0], df_size), prob_cond(df_new_delhi__off.shape[0], df_size), prob_cond(df_pune_off.shape[0], df_size))"
   ]
  },
  {
   "cell_type": "code",
   "execution_count": 133,
   "metadata": {},
   "outputs": [
    {
     "data": {
      "text/plain": [
       "'29.58%'"
      ]
     },
     "execution_count": 133,
     "metadata": {},
     "output_type": "execute_result"
    }
   ],
   "source": [
    "3 # PROBABILIDADE DO FUNCIONARIO DE CADA CIDADE SER HOMEM OU MULHER (Gender)\n",
    "\n",
    "\n",
    "df_bangalore_gender = df_bangalore[df_bangalore.Gender == 'Male']\n",
    "df_pune_gender = df_pune[df_pune.Gender == 'Male']\n",
    "df_new_delhi_gender = df_new_delhi[df_new_delhi.Gender == 'Male']\n",
    "\n",
    "bang_prob_male = prob(df_bangalore_gender.shape[0], df_bangalore.shape[0])  \n",
    "bang_prob_fame = prob(df_bangalore_gender.shape[0], df_bangalore.shape[0], ocorrer=False) \n"
   ]
  },
  {
   "cell_type": "markdown",
   "metadata": {},
   "source": [
    "## Variável Gender"
   ]
  },
  {
   "cell_type": "code",
   "execution_count": 126,
   "metadata": {},
   "outputs": [
    {
     "data": {
      "text/plain": [
       "array(['Male', 'Female'], dtype=object)"
      ]
     },
     "execution_count": 126,
     "metadata": {},
     "output_type": "execute_result"
    }
   ],
   "source": [
    "# VErificando campos \n",
    "df['Gender'].unique()"
   ]
  },
  {
   "cell_type": "code",
   "execution_count": 127,
   "metadata": {},
   "outputs": [],
   "source": [
    "# Separando em dataFrames por sexo\n",
    "df_male = df[df.Gender == 'Male']\n",
    "df_fame = df[df.Gender == 'Fame']\n"
   ]
  },
  {
   "cell_type": "markdown",
   "metadata": {},
   "source": [
    "### Probabilidades "
   ]
  },
  {
   "cell_type": "code",
   "execution_count": 128,
   "metadata": {},
   "outputs": [
    {
     "data": {
      "text/plain": [
       "4"
      ]
     },
     "execution_count": 128,
     "metadata": {},
     "output_type": "execute_result"
    }
   ],
   "source": [
    "1 # Probabilidade do funcionário ser de cada gênero\n",
    "2 # PROBALIDADE DO FUNCIONARIO de CADA genero sair da empresa (LeaveOrNot)\n",
    "3 # PROBABILIDADE DO FUNCIONARIO de cada genero ter um nível salarial 1, 2, 3 (PaymentTier)\n",
    "4 # PROBABILIDADE DO FUNCIONARIO DE CADA GENERO TER ATÉ 30 ANOS (Age)"
   ]
  }
 ],
 "metadata": {
  "kernelspec": {
   "display_name": "Python 3",
   "language": "python",
   "name": "python3"
  },
  "language_info": {
   "codemirror_mode": {
    "name": "ipython",
    "version": 3
   },
   "file_extension": ".py",
   "mimetype": "text/x-python",
   "name": "python",
   "nbconvert_exporter": "python",
   "pygments_lexer": "ipython3",
   "version": "3.11.4"
  }
 },
 "nbformat": 4,
 "nbformat_minor": 2
}
